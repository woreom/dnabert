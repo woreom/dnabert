{
 "cells": [
  {
   "cell_type": "code",
   "execution_count": 1,
   "id": "b3d19cef-76a5-4119-9eb8-5c9a5752d607",
   "metadata": {},
   "outputs": [],
   "source": [
    "import pandas as pd"
   ]
  },
  {
   "cell_type": "code",
   "execution_count": 34,
   "id": "5510b669-59b4-4507-a2d8-fcabbb07ef63",
   "metadata": {},
   "outputs": [
    {
     "data": {
      "text/html": [
       "<div>\n",
       "<style scoped>\n",
       "    .dataframe tbody tr th:only-of-type {\n",
       "        vertical-align: middle;\n",
       "    }\n",
       "\n",
       "    .dataframe tbody tr th {\n",
       "        vertical-align: top;\n",
       "    }\n",
       "\n",
       "    .dataframe thead th {\n",
       "        text-align: right;\n",
       "    }\n",
       "</style>\n",
       "<table border=\"1\" class=\"dataframe\">\n",
       "  <thead>\n",
       "    <tr style=\"text-align: right;\">\n",
       "      <th></th>\n",
       "      <th>ACATCAGGTTACCTCTACCAAGG</th>\n",
       "      <th>1</th>\n",
       "    </tr>\n",
       "  </thead>\n",
       "  <tbody>\n",
       "    <tr>\n",
       "      <th>0</th>\n",
       "      <td>CTGATGCCAGCTAGTGGGCGAGG</td>\n",
       "      <td>0</td>\n",
       "    </tr>\n",
       "    <tr>\n",
       "      <th>1</th>\n",
       "      <td>CTGTTTCCCATCCTTCCGGGTGG</td>\n",
       "      <td>1</td>\n",
       "    </tr>\n",
       "    <tr>\n",
       "      <th>2</th>\n",
       "      <td>AATGTATGCACAGGGAACAGAGG</td>\n",
       "      <td>0</td>\n",
       "    </tr>\n",
       "    <tr>\n",
       "      <th>3</th>\n",
       "      <td>CCAGACTCACCCGCTTGCCCAGG</td>\n",
       "      <td>1</td>\n",
       "    </tr>\n",
       "    <tr>\n",
       "      <th>4</th>\n",
       "      <td>CATCAGACGCCTCCAGCCGCCGG</td>\n",
       "      <td>1</td>\n",
       "    </tr>\n",
       "    <tr>\n",
       "      <th>...</th>\n",
       "      <td>...</td>\n",
       "      <td>...</td>\n",
       "    </tr>\n",
       "    <tr>\n",
       "      <th>14667</th>\n",
       "      <td>CACACAGTGTCCAGATACGAGGG</td>\n",
       "      <td>1</td>\n",
       "    </tr>\n",
       "    <tr>\n",
       "      <th>14668</th>\n",
       "      <td>CCAAATCCCAAACCTTACCCTGG</td>\n",
       "      <td>1</td>\n",
       "    </tr>\n",
       "    <tr>\n",
       "      <th>14669</th>\n",
       "      <td>CATCGATGTGTGCTGTGGCCAGG</td>\n",
       "      <td>0</td>\n",
       "    </tr>\n",
       "    <tr>\n",
       "      <th>14670</th>\n",
       "      <td>GCTCTTGGAGATGTACAGGAAGG</td>\n",
       "      <td>1</td>\n",
       "    </tr>\n",
       "    <tr>\n",
       "      <th>14671</th>\n",
       "      <td>GATGGAAATGGGCTTCCGCATGG</td>\n",
       "      <td>1</td>\n",
       "    </tr>\n",
       "  </tbody>\n",
       "</table>\n",
       "<p>14672 rows × 2 columns</p>\n",
       "</div>"
      ],
      "text/plain": [
       "       ACATCAGGTTACCTCTACCAAGG  1\n",
       "0      CTGATGCCAGCTAGTGGGCGAGG  0\n",
       "1      CTGTTTCCCATCCTTCCGGGTGG  1\n",
       "2      AATGTATGCACAGGGAACAGAGG  0\n",
       "3      CCAGACTCACCCGCTTGCCCAGG  1\n",
       "4      CATCAGACGCCTCCAGCCGCCGG  1\n",
       "...                        ... ..\n",
       "14667  CACACAGTGTCCAGATACGAGGG  1\n",
       "14668  CCAAATCCCAAACCTTACCCTGG  1\n",
       "14669  CATCGATGTGTGCTGTGGCCAGG  0\n",
       "14670  GCTCTTGGAGATGTACAGGAAGG  1\n",
       "14671  GATGGAAATGGGCTTCCGCATGG  1\n",
       "\n",
       "[14672 rows x 2 columns]"
      ]
     },
     "execution_count": 34,
     "metadata": {},
     "output_type": "execute_result"
    }
   ],
   "source": [
    "df = pd.read_csv('examples/sample_data/ft/prom-core/3/train.tsv', sep='\\t')\n",
    "df"
   ]
  },
  {
   "cell_type": "code",
   "execution_count": 35,
   "id": "3a1c9a66-b367-4871-8529-d23c3fcd7ffc",
   "metadata": {},
   "outputs": [],
   "source": [
    "def space(string):\n",
    "    new_string=''\n",
    "    for i in range(4):\n",
    "        new_string+=string[i*6:(i+1)*6]+' ' if i!=3 else string[i*6:(i+1)*6]\n",
    "    return new_string"
   ]
  },
  {
   "cell_type": "code",
   "execution_count": 32,
   "id": "d0519d73-83d6-401d-9e56-d05d9d06dd6b",
   "metadata": {},
   "outputs": [
    {
     "data": {
      "text/plain": [
       "'GAGAAC GGAAAG GAGAAG GGCGG'"
      ]
     },
     "execution_count": 32,
     "metadata": {},
     "output_type": "execute_result"
    }
   ],
   "source": [
    "string = 'GAGAACGGAAAGGAGAAGGGCGG'\n",
    "space(string)"
   ]
  },
  {
   "cell_type": "code",
   "execution_count": 36,
   "id": "0f3883c8-0cef-4e26-be8b-2755f46f2fbb",
   "metadata": {},
   "outputs": [],
   "source": [
    "df['ACATCAGGTTACCTCTACCAAGG']= df['ACATCAGGTTACCTCTACCAAGG'].apply(space)\n",
    "df.to_csv('examples/sample_data/ft/prom-core/3/dev.csv',index=False)"
   ]
  },
  {
   "cell_type": "code",
   "execution_count": 38,
   "id": "dfb2614c-7d40-4ceb-a81c-a28bcc81e2b0",
   "metadata": {},
   "outputs": [
    {
     "ename": "ValueError",
     "evalue": "invalid literal for int() with base 10: '..'",
     "output_type": "error",
     "traceback": [
      "\u001b[0;31m---------------------------------------------------------------------------\u001b[0m",
      "\u001b[0;31mValueError\u001b[0m                                Traceback (most recent call last)",
      "\u001b[0;32m<ipython-input-38-c61e3c5d0ff5>\u001b[0m in \u001b[0;36m<module>\u001b[0;34m\u001b[0m\n\u001b[1;32m      1\u001b[0m \u001b[0;34m'../models/6mer/'\u001b[0m\u001b[0;34m.\u001b[0m\u001b[0msplit\u001b[0m\u001b[0;34m(\u001b[0m\u001b[0;34m\"-\"\u001b[0m\u001b[0;34m)\u001b[0m\u001b[0;34m[\u001b[0m\u001b[0;34m-\u001b[0m\u001b[0;36m1\u001b[0m\u001b[0;34m]\u001b[0m\u001b[0;34m.\u001b[0m\u001b[0msplit\u001b[0m\u001b[0;34m(\u001b[0m\u001b[0;34m\"/\"\u001b[0m\u001b[0;34m)\u001b[0m\u001b[0;34m[\u001b[0m\u001b[0;36m0\u001b[0m\u001b[0;34m]\u001b[0m\u001b[0;34m\u001b[0m\u001b[0;34m\u001b[0m\u001b[0m\n\u001b[0;32m----> 2\u001b[0;31m \u001b[0mint\u001b[0m\u001b[0;34m(\u001b[0m\u001b[0;34m'..'\u001b[0m\u001b[0;34m)\u001b[0m\u001b[0;34m\u001b[0m\u001b[0;34m\u001b[0m\u001b[0m\n\u001b[0m",
      "\u001b[0;31mValueError\u001b[0m: invalid literal for int() with base 10: '..'"
     ]
    }
   ],
   "source": [
    "'../models/6mer/'.split(\"-\")[-1].split(\"/\")[0]\n",
    "int('..')"
   ]
  }
 ],
 "metadata": {
  "kernelspec": {
   "display_name": "palm",
   "language": "python",
   "name": "palm"
  },
  "language_info": {
   "codemirror_mode": {
    "name": "ipython",
    "version": 3
   },
   "file_extension": ".py",
   "mimetype": "text/x-python",
   "name": "python",
   "nbconvert_exporter": "python",
   "pygments_lexer": "ipython3",
   "version": "3.8.10"
  }
 },
 "nbformat": 4,
 "nbformat_minor": 5
}
