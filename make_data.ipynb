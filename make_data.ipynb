{
 "cells": [
  {
   "cell_type": "code",
   "execution_count": 1,
   "id": "403ec218-30a4-43f0-9128-ba5504fc5150",
   "metadata": {},
   "outputs": [],
   "source": [
    "import pandas as pd\n",
    "from motif.motif_utils import seq2kmer\n",
    "# importing os module  \n",
    "import os "
   ]
  },
  {
   "cell_type": "markdown",
   "id": "88523c35-d57a-4605-b979-c3ced43115d0",
   "metadata": {
    "tags": []
   },
   "source": [
    "# Health Check"
   ]
  },
  {
   "cell_type": "code",
   "execution_count": 4,
   "id": "378a3f60-f301-4f9d-8cf0-773c573786d9",
   "metadata": {},
   "outputs": [],
   "source": [
    "def check_length(df,name):\n",
    "    not_23=[i for i in df.index if len(df[name][i])!=23]\n",
    "    return not_23        \n",
    "def check_end_GG(df,name):\n",
    "    not_gg=[i for i in df.index if df[name][i][-2:]!='GG']\n",
    "    return not_gg\n",
    "\n",
    "def health_check(df,name):\n",
    "    not_23=check_length(df,name)\n",
    "    not_gg=check_end_GG(df,name)\n",
    "    print(\"number of sequences not ending in GG:\", len(not_gg))\n",
    "    print(\"number of sequences not 23 nucleotide:\", len(not_23))\n",
    "    merge= not_23[:].copy()\n",
    "    merge.extend(not_gg[:].copy())\n",
    "    merge=set(merge)\n",
    "    print(\"Problematic data:\", len(merge))\n",
    "    return not_gg, not_23"
   ]
  },
  {
   "cell_type": "markdown",
   "id": "251e5eb2-2585-4894-94db-f1aa9ae6ea9e",
   "metadata": {
    "tags": []
   },
   "source": [
    "# dataframe to dnabert kmer"
   ]
  },
  {
   "cell_type": "code",
   "execution_count": 2,
   "id": "e900972f-2c0b-4052-8a05-7dc2515f0fba",
   "metadata": {},
   "outputs": [],
   "source": [
    "def mkdir(path):\n",
    "    try: \n",
    "        os.mkdir(path) \n",
    "    except OSError as error: \n",
    "        print(error)\n",
    "        \n",
    "def df2kmer(df,sgrna_name,k):\n",
    "    kmers=[]\n",
    "    seqs=df[sgrna_name].to_list()\n",
    "    for seq in seqs:\n",
    "        kmers.append(seq2kmer(seq,k))\n",
    "    return kmers\n",
    "\n",
    "def add_allkmers_to_df(df, sgrna_name):\n",
    "    for k in [3,4,5,6]:\n",
    "        df[str(k)+'mer']=df2kmer(df, sgrna_name,k)\n",
    "        \n",
    "    return df\n",
    "\n",
    "def save_tsv(df,split:int,name:str):\n",
    "    '''\n",
    "    For making tsv files for finetuning\n",
    "    df --> pandas dataframe after adding kmers\n",
    "    split --> int for train/val split\n",
    "    name --> str path to the folder\n",
    "    '''\n",
    "    split_index=int(len(df.index)*split)\n",
    "    for k in [3,4,5,6]:\n",
    "        path=name+str(k)+'//'\n",
    "        kmer_name=str(k)+'mer'\n",
    "        mkdir(path)\n",
    "        train = pd.DataFrame({\"sequence\":df[kmer_name][:split_index],\"label\":df[\"label\"][:split_index]})\n",
    "        dev = pd.DataFrame({\"sequence\":df[kmer_name][split_index:],\"label\":df[\"label\"][split_index:]})\n",
    "        \n",
    "        train.to_csv(path+\"train.tsv\", sep = '\\t', index=False)\n",
    "        dev.to_csv(path+\"dev.tsv\", sep = '\\t', index=False)\n",
    "\n",
    "def save_txt(df,name:str):\n",
    "    '''\n",
    "    For making tsv files for finetuning\n",
    "    df --> pandas dataframe after adding kmers\n",
    "    name --> str path to the folder\n",
    "    '''\n",
    "    for k in [3,4,5,6]:\n",
    "        path=name+str(k)+'_mer.txt'\n",
    "        kmer_name=str(k)+'mer'\n",
    "        with open(path, 'w') as f:\n",
    "            for item in df[kmer_name]:\n",
    "                f.write(\"%s\\n\" % item)\n",
    "        \n",
    "    "
   ]
  },
  {
   "cell_type": "markdown",
   "id": "1d0064d2-d94f-4b7c-939d-723971954baf",
   "metadata": {
    "jp-MarkdownHeadingCollapsed": true,
    "tags": []
   },
   "source": [
    "# Make train.tsv and dev.tsv"
   ]
  },
  {
   "cell_type": "code",
   "execution_count": 86,
   "id": "9ee72aa3-b332-40ab-afc9-a0c60e95483c",
   "metadata": {},
   "outputs": [
    {
     "name": "stdout",
     "output_type": "stream",
     "text": [
      "number of sequences not ending in GG: 0\n",
      "number of sequences not 23 nucleotide: 0\n",
      "Problematic data: 0\n"
     ]
    },
    {
     "data": {
      "text/html": [
       "<div>\n",
       "<style scoped>\n",
       "    .dataframe tbody tr th:only-of-type {\n",
       "        vertical-align: middle;\n",
       "    }\n",
       "\n",
       "    .dataframe tbody tr th {\n",
       "        vertical-align: top;\n",
       "    }\n",
       "\n",
       "    .dataframe thead th {\n",
       "        text-align: right;\n",
       "    }\n",
       "</style>\n",
       "<table border=\"1\" class=\"dataframe\">\n",
       "  <thead>\n",
       "    <tr style=\"text-align: right;\">\n",
       "      <th></th>\n",
       "      <th>sgRNA</th>\n",
       "      <th>label</th>\n",
       "    </tr>\n",
       "  </thead>\n",
       "  <tbody>\n",
       "    <tr>\n",
       "      <th>0</th>\n",
       "      <td>CTTGCTCGCGCAGGACGAGGCGG</td>\n",
       "      <td>1</td>\n",
       "    </tr>\n",
       "    <tr>\n",
       "      <th>1</th>\n",
       "      <td>ACATCAGGTTACCTCTACCAAGG</td>\n",
       "      <td>1</td>\n",
       "    </tr>\n",
       "    <tr>\n",
       "      <th>2</th>\n",
       "      <td>CTGATGCCAGCTAGTGGGCGAGG</td>\n",
       "      <td>0</td>\n",
       "    </tr>\n",
       "    <tr>\n",
       "      <th>3</th>\n",
       "      <td>CTGTTTCCCATCCTTCCGGGTGG</td>\n",
       "      <td>1</td>\n",
       "    </tr>\n",
       "    <tr>\n",
       "      <th>4</th>\n",
       "      <td>AATGTATGCACAGGGAACAGAGG</td>\n",
       "      <td>1</td>\n",
       "    </tr>\n",
       "    <tr>\n",
       "      <th>...</th>\n",
       "      <td>...</td>\n",
       "      <td>...</td>\n",
       "    </tr>\n",
       "    <tr>\n",
       "      <th>16744</th>\n",
       "      <td>CAACGCCCTGCTGCGGCGGCTGG</td>\n",
       "      <td>1</td>\n",
       "    </tr>\n",
       "    <tr>\n",
       "      <th>16745</th>\n",
       "      <td>CTAAGAAATCCTCTATCTTCAGG</td>\n",
       "      <td>0</td>\n",
       "    </tr>\n",
       "    <tr>\n",
       "      <th>16746</th>\n",
       "      <td>TGATCCGCCAGCGCCATATCAGG</td>\n",
       "      <td>0</td>\n",
       "    </tr>\n",
       "    <tr>\n",
       "      <th>16747</th>\n",
       "      <td>ATCCGAGGTGGTACCTGATATGG</td>\n",
       "      <td>0</td>\n",
       "    </tr>\n",
       "    <tr>\n",
       "      <th>16748</th>\n",
       "      <td>TCTCTCTGCGCTCTCCCTACGGG</td>\n",
       "      <td>0</td>\n",
       "    </tr>\n",
       "  </tbody>\n",
       "</table>\n",
       "<p>16749 rows × 2 columns</p>\n",
       "</div>"
      ],
      "text/plain": [
       "                         sgRNA  label\n",
       "0      CTTGCTCGCGCAGGACGAGGCGG      1\n",
       "1      ACATCAGGTTACCTCTACCAAGG      1\n",
       "2      CTGATGCCAGCTAGTGGGCGAGG      0\n",
       "3      CTGTTTCCCATCCTTCCGGGTGG      1\n",
       "4      AATGTATGCACAGGGAACAGAGG      1\n",
       "...                        ...    ...\n",
       "16744  CAACGCCCTGCTGCGGCGGCTGG      1\n",
       "16745  CTAAGAAATCCTCTATCTTCAGG      0\n",
       "16746  TGATCCGCCAGCGCCATATCAGG      0\n",
       "16747  ATCCGAGGTGGTACCTGATATGG      0\n",
       "16748  TCTCTCTGCGCTCTCCCTACGGG      0\n",
       "\n",
       "[16749 rows x 2 columns]"
      ]
     },
     "execution_count": 86,
     "metadata": {},
     "output_type": "execute_result"
    }
   ],
   "source": [
    "df = pd.read_csv('examples/unprocessed_data/labeled_sgrna.csv')\n",
    "# drop duplicates (it doesn't have any)\n",
    "df.drop_duplicates(subset='sgRNA', keep=\"last\")\n",
    "not_gg, not_23=health_check(df,'sgRNA')\n",
    "df"
   ]
  },
  {
   "cell_type": "code",
   "execution_count": 43,
   "id": "161802cb-b447-46b4-9d3b-0b504fdce7ab",
   "metadata": {},
   "outputs": [],
   "source": [
    "df = add_allkmers_to_df(df, \"sgRNA\")\n",
    "save_tsv(df,split=0.85,name='examples/unprocessed_data/ft/')"
   ]
  },
  {
   "cell_type": "markdown",
   "id": "d03feb66-233a-4620-944b-1d64fe25caa4",
   "metadata": {
    "tags": []
   },
   "source": [
    "# Make k_mer.txt for pretraining"
   ]
  },
  {
   "cell_type": "markdown",
   "id": "e1d57859-3c77-43b6-b9ab-d737b828e585",
   "metadata": {
    "jp-MarkdownHeadingCollapsed": true,
    "tags": []
   },
   "source": [
    "### Fix unlabeled sgrna"
   ]
  },
  {
   "cell_type": "code",
   "execution_count": 5,
   "id": "60171ce6-479d-4ccf-b773-5630f37cafb6",
   "metadata": {},
   "outputs": [
    {
     "name": "stdout",
     "output_type": "stream",
     "text": [
      "number of sequences not ending in GG: 42779\n",
      "number of sequences not 23 nucleotide: 0\n",
      "Problematic data: 42779\n"
     ]
    },
    {
     "data": {
      "text/html": [
       "<div>\n",
       "<style scoped>\n",
       "    .dataframe tbody tr th:only-of-type {\n",
       "        vertical-align: middle;\n",
       "    }\n",
       "\n",
       "    .dataframe tbody tr th {\n",
       "        vertical-align: top;\n",
       "    }\n",
       "\n",
       "    .dataframe thead th {\n",
       "        text-align: right;\n",
       "    }\n",
       "</style>\n",
       "<table border=\"1\" class=\"dataframe\">\n",
       "  <thead>\n",
       "    <tr style=\"text-align: right;\">\n",
       "      <th></th>\n",
       "      <th>0</th>\n",
       "    </tr>\n",
       "  </thead>\n",
       "  <tbody>\n",
       "    <tr>\n",
       "      <th>0</th>\n",
       "      <td>CGCCGCCGCTTTCGGTGATGAGG</td>\n",
       "    </tr>\n",
       "    <tr>\n",
       "      <th>1</th>\n",
       "      <td>GGCAGCGTCGTGCACGGGTCGGG</td>\n",
       "    </tr>\n",
       "    <tr>\n",
       "      <th>2</th>\n",
       "      <td>TGGGCGGATCACTTGACGTCAGG</td>\n",
       "    </tr>\n",
       "    <tr>\n",
       "      <th>3</th>\n",
       "      <td>TTACCATAGTGTACGGGTGCAGG</td>\n",
       "    </tr>\n",
       "    <tr>\n",
       "      <th>4</th>\n",
       "      <td>TCTACTGAAGTGGTAGCAACAGG</td>\n",
       "    </tr>\n",
       "    <tr>\n",
       "      <th>...</th>\n",
       "      <td>...</td>\n",
       "    </tr>\n",
       "    <tr>\n",
       "      <th>1066619</th>\n",
       "      <td>TTTTTTTTTGAGACGGAGTTAAG</td>\n",
       "    </tr>\n",
       "    <tr>\n",
       "      <th>1066620</th>\n",
       "      <td>TTTTTTTTTGAGACGGAGTTCAG</td>\n",
       "    </tr>\n",
       "    <tr>\n",
       "      <th>1066621</th>\n",
       "      <td>TTTTTTTTTGAGACGGAGTTCGG</td>\n",
       "    </tr>\n",
       "    <tr>\n",
       "      <th>1066622</th>\n",
       "      <td>TTTTTTTTTGAGACGGAGTTTAG</td>\n",
       "    </tr>\n",
       "    <tr>\n",
       "      <th>1066623</th>\n",
       "      <td>TTTTTTTTTGAGACGGAGTTTGG</td>\n",
       "    </tr>\n",
       "  </tbody>\n",
       "</table>\n",
       "<p>1066624 rows × 1 columns</p>\n",
       "</div>"
      ],
      "text/plain": [
       "                               0\n",
       "0        CGCCGCCGCTTTCGGTGATGAGG\n",
       "1        GGCAGCGTCGTGCACGGGTCGGG\n",
       "2        TGGGCGGATCACTTGACGTCAGG\n",
       "3        TTACCATAGTGTACGGGTGCAGG\n",
       "4        TCTACTGAAGTGGTAGCAACAGG\n",
       "...                          ...\n",
       "1066619  TTTTTTTTTGAGACGGAGTTAAG\n",
       "1066620  TTTTTTTTTGAGACGGAGTTCAG\n",
       "1066621  TTTTTTTTTGAGACGGAGTTCGG\n",
       "1066622  TTTTTTTTTGAGACGGAGTTTAG\n",
       "1066623  TTTTTTTTTGAGACGGAGTTTGG\n",
       "\n",
       "[1066624 rows x 1 columns]"
      ]
     },
     "execution_count": 5,
     "metadata": {},
     "output_type": "execute_result"
    }
   ],
   "source": [
    "df = pd.read_csv('examples/unprocessed_data/unlabeled_sgrna.csv')\n",
    "# drop duplicates (it doesn't have any)\n",
    "df.drop_duplicates(subset='0', keep=\"last\")\n",
    "not_gg, not_23=health_check(df,name='0')\n",
    "df"
   ]
  },
  {
   "cell_type": "code",
   "execution_count": 6,
   "id": "52c489d6-1672-4776-8399-28ea6ab4ea91",
   "metadata": {},
   "outputs": [
    {
     "name": "stdout",
     "output_type": "stream",
     "text": [
      "number of sequences not ending in GG: 0\n",
      "number of sequences not 23 nucleotide: 0\n",
      "Problematic data: 0\n"
     ]
    },
    {
     "data": {
      "text/html": [
       "<div>\n",
       "<style scoped>\n",
       "    .dataframe tbody tr th:only-of-type {\n",
       "        vertical-align: middle;\n",
       "    }\n",
       "\n",
       "    .dataframe tbody tr th {\n",
       "        vertical-align: top;\n",
       "    }\n",
       "\n",
       "    .dataframe thead th {\n",
       "        text-align: right;\n",
       "    }\n",
       "</style>\n",
       "<table border=\"1\" class=\"dataframe\">\n",
       "  <thead>\n",
       "    <tr style=\"text-align: right;\">\n",
       "      <th></th>\n",
       "      <th>0</th>\n",
       "    </tr>\n",
       "  </thead>\n",
       "  <tbody>\n",
       "    <tr>\n",
       "      <th>0</th>\n",
       "      <td>CGCCGCCGCTTTCGGTGATGAGG</td>\n",
       "    </tr>\n",
       "    <tr>\n",
       "      <th>1</th>\n",
       "      <td>GGCAGCGTCGTGCACGGGTCGGG</td>\n",
       "    </tr>\n",
       "    <tr>\n",
       "      <th>2</th>\n",
       "      <td>TGGGCGGATCACTTGACGTCAGG</td>\n",
       "    </tr>\n",
       "    <tr>\n",
       "      <th>3</th>\n",
       "      <td>TTACCATAGTGTACGGGTGCAGG</td>\n",
       "    </tr>\n",
       "    <tr>\n",
       "      <th>4</th>\n",
       "      <td>TCTACTGAAGTGGTAGCAACAGG</td>\n",
       "    </tr>\n",
       "    <tr>\n",
       "      <th>...</th>\n",
       "      <td>...</td>\n",
       "    </tr>\n",
       "    <tr>\n",
       "      <th>1066614</th>\n",
       "      <td>TTTTTTTTTGAGACGGAGTCCGG</td>\n",
       "    </tr>\n",
       "    <tr>\n",
       "      <th>1066616</th>\n",
       "      <td>TTTTTTTTTGAGACGGAGTCGGG</td>\n",
       "    </tr>\n",
       "    <tr>\n",
       "      <th>1066618</th>\n",
       "      <td>TTTTTTTTTGAGACGGAGTCTGG</td>\n",
       "    </tr>\n",
       "    <tr>\n",
       "      <th>1066621</th>\n",
       "      <td>TTTTTTTTTGAGACGGAGTTCGG</td>\n",
       "    </tr>\n",
       "    <tr>\n",
       "      <th>1066623</th>\n",
       "      <td>TTTTTTTTTGAGACGGAGTTTGG</td>\n",
       "    </tr>\n",
       "  </tbody>\n",
       "</table>\n",
       "<p>1023845 rows × 1 columns</p>\n",
       "</div>"
      ],
      "text/plain": [
       "                               0\n",
       "0        CGCCGCCGCTTTCGGTGATGAGG\n",
       "1        GGCAGCGTCGTGCACGGGTCGGG\n",
       "2        TGGGCGGATCACTTGACGTCAGG\n",
       "3        TTACCATAGTGTACGGGTGCAGG\n",
       "4        TCTACTGAAGTGGTAGCAACAGG\n",
       "...                          ...\n",
       "1066614  TTTTTTTTTGAGACGGAGTCCGG\n",
       "1066616  TTTTTTTTTGAGACGGAGTCGGG\n",
       "1066618  TTTTTTTTTGAGACGGAGTCTGG\n",
       "1066621  TTTTTTTTTGAGACGGAGTTCGG\n",
       "1066623  TTTTTTTTTGAGACGGAGTTTGG\n",
       "\n",
       "[1023845 rows x 1 columns]"
      ]
     },
     "execution_count": 6,
     "metadata": {},
     "output_type": "execute_result"
    }
   ],
   "source": [
    "fixed_df=df.drop(labels=not_gg)\n",
    "not_gg, not_23=health_check(fixed_df,name='0')\n",
    "fixed_df"
   ]
  },
  {
   "cell_type": "code",
   "execution_count": 7,
   "id": "90e4c812-3bae-4597-b0a1-267af8eeb7b3",
   "metadata": {},
   "outputs": [
    {
     "data": {
      "text/html": [
       "<div>\n",
       "<style scoped>\n",
       "    .dataframe tbody tr th:only-of-type {\n",
       "        vertical-align: middle;\n",
       "    }\n",
       "\n",
       "    .dataframe tbody tr th {\n",
       "        vertical-align: top;\n",
       "    }\n",
       "\n",
       "    .dataframe thead th {\n",
       "        text-align: right;\n",
       "    }\n",
       "</style>\n",
       "<table border=\"1\" class=\"dataframe\">\n",
       "  <thead>\n",
       "    <tr style=\"text-align: right;\">\n",
       "      <th></th>\n",
       "      <th>sgRNA</th>\n",
       "    </tr>\n",
       "  </thead>\n",
       "  <tbody>\n",
       "    <tr>\n",
       "      <th>0</th>\n",
       "      <td>CGCCGCCGCTTTCGGTGATGAGG</td>\n",
       "    </tr>\n",
       "    <tr>\n",
       "      <th>1</th>\n",
       "      <td>GGCAGCGTCGTGCACGGGTCGGG</td>\n",
       "    </tr>\n",
       "    <tr>\n",
       "      <th>2</th>\n",
       "      <td>TGGGCGGATCACTTGACGTCAGG</td>\n",
       "    </tr>\n",
       "    <tr>\n",
       "      <th>3</th>\n",
       "      <td>TTACCATAGTGTACGGGTGCAGG</td>\n",
       "    </tr>\n",
       "    <tr>\n",
       "      <th>4</th>\n",
       "      <td>TCTACTGAAGTGGTAGCAACAGG</td>\n",
       "    </tr>\n",
       "    <tr>\n",
       "      <th>...</th>\n",
       "      <td>...</td>\n",
       "    </tr>\n",
       "    <tr>\n",
       "      <th>1066614</th>\n",
       "      <td>TTTTTTTTTGAGACGGAGTCCGG</td>\n",
       "    </tr>\n",
       "    <tr>\n",
       "      <th>1066616</th>\n",
       "      <td>TTTTTTTTTGAGACGGAGTCGGG</td>\n",
       "    </tr>\n",
       "    <tr>\n",
       "      <th>1066618</th>\n",
       "      <td>TTTTTTTTTGAGACGGAGTCTGG</td>\n",
       "    </tr>\n",
       "    <tr>\n",
       "      <th>1066621</th>\n",
       "      <td>TTTTTTTTTGAGACGGAGTTCGG</td>\n",
       "    </tr>\n",
       "    <tr>\n",
       "      <th>1066623</th>\n",
       "      <td>TTTTTTTTTGAGACGGAGTTTGG</td>\n",
       "    </tr>\n",
       "  </tbody>\n",
       "</table>\n",
       "<p>1023845 rows × 1 columns</p>\n",
       "</div>"
      ],
      "text/plain": [
       "                           sgRNA\n",
       "0        CGCCGCCGCTTTCGGTGATGAGG\n",
       "1        GGCAGCGTCGTGCACGGGTCGGG\n",
       "2        TGGGCGGATCACTTGACGTCAGG\n",
       "3        TTACCATAGTGTACGGGTGCAGG\n",
       "4        TCTACTGAAGTGGTAGCAACAGG\n",
       "...                          ...\n",
       "1066614  TTTTTTTTTGAGACGGAGTCCGG\n",
       "1066616  TTTTTTTTTGAGACGGAGTCGGG\n",
       "1066618  TTTTTTTTTGAGACGGAGTCTGG\n",
       "1066621  TTTTTTTTTGAGACGGAGTTCGG\n",
       "1066623  TTTTTTTTTGAGACGGAGTTTGG\n",
       "\n",
       "[1023845 rows x 1 columns]"
      ]
     },
     "execution_count": 7,
     "metadata": {},
     "output_type": "execute_result"
    }
   ],
   "source": [
    "fixed_df.rename(columns={'0':'sgRNA'}, inplace=True)\n",
    "fixed_df.to_csv('examples/unprocessed_data/unlabeled_sgrna_fixed.csv', index=False)\n",
    "fixed_df"
   ]
  },
  {
   "cell_type": "markdown",
   "id": "6d0f3a98-c911-420a-9244-37f9c41fe52c",
   "metadata": {},
   "source": [
    "### Making .txt files"
   ]
  },
  {
   "cell_type": "code",
   "execution_count": 13,
   "id": "cb3c35c0-79fd-494b-89ab-b6d50eb032a4",
   "metadata": {},
   "outputs": [
    {
     "name": "stdout",
     "output_type": "stream",
     "text": [
      "number of sequences not ending in GG: 0\n",
      "number of sequences not 23 nucleotide: 0\n",
      "Problematic data: 0\n"
     ]
    },
    {
     "data": {
      "text/html": [
       "<div>\n",
       "<style scoped>\n",
       "    .dataframe tbody tr th:only-of-type {\n",
       "        vertical-align: middle;\n",
       "    }\n",
       "\n",
       "    .dataframe tbody tr th {\n",
       "        vertical-align: top;\n",
       "    }\n",
       "\n",
       "    .dataframe thead th {\n",
       "        text-align: right;\n",
       "    }\n",
       "</style>\n",
       "<table border=\"1\" class=\"dataframe\">\n",
       "  <thead>\n",
       "    <tr style=\"text-align: right;\">\n",
       "      <th></th>\n",
       "      <th>sgRNA</th>\n",
       "    </tr>\n",
       "  </thead>\n",
       "  <tbody>\n",
       "    <tr>\n",
       "      <th>0</th>\n",
       "      <td>CGCCGCCGCTTTCGGTGATGAGG</td>\n",
       "    </tr>\n",
       "    <tr>\n",
       "      <th>1</th>\n",
       "      <td>GGCAGCGTCGTGCACGGGTCGGG</td>\n",
       "    </tr>\n",
       "    <tr>\n",
       "      <th>2</th>\n",
       "      <td>TGGGCGGATCACTTGACGTCAGG</td>\n",
       "    </tr>\n",
       "    <tr>\n",
       "      <th>3</th>\n",
       "      <td>TTACCATAGTGTACGGGTGCAGG</td>\n",
       "    </tr>\n",
       "    <tr>\n",
       "      <th>4</th>\n",
       "      <td>TCTACTGAAGTGGTAGCAACAGG</td>\n",
       "    </tr>\n",
       "    <tr>\n",
       "      <th>...</th>\n",
       "      <td>...</td>\n",
       "    </tr>\n",
       "    <tr>\n",
       "      <th>1023840</th>\n",
       "      <td>TTTTTTTTTGAGACGGAGTCCGG</td>\n",
       "    </tr>\n",
       "    <tr>\n",
       "      <th>1023841</th>\n",
       "      <td>TTTTTTTTTGAGACGGAGTCGGG</td>\n",
       "    </tr>\n",
       "    <tr>\n",
       "      <th>1023842</th>\n",
       "      <td>TTTTTTTTTGAGACGGAGTCTGG</td>\n",
       "    </tr>\n",
       "    <tr>\n",
       "      <th>1023843</th>\n",
       "      <td>TTTTTTTTTGAGACGGAGTTCGG</td>\n",
       "    </tr>\n",
       "    <tr>\n",
       "      <th>1023844</th>\n",
       "      <td>TTTTTTTTTGAGACGGAGTTTGG</td>\n",
       "    </tr>\n",
       "  </tbody>\n",
       "</table>\n",
       "<p>1023845 rows × 1 columns</p>\n",
       "</div>"
      ],
      "text/plain": [
       "                           sgRNA\n",
       "0        CGCCGCCGCTTTCGGTGATGAGG\n",
       "1        GGCAGCGTCGTGCACGGGTCGGG\n",
       "2        TGGGCGGATCACTTGACGTCAGG\n",
       "3        TTACCATAGTGTACGGGTGCAGG\n",
       "4        TCTACTGAAGTGGTAGCAACAGG\n",
       "...                          ...\n",
       "1023840  TTTTTTTTTGAGACGGAGTCCGG\n",
       "1023841  TTTTTTTTTGAGACGGAGTCGGG\n",
       "1023842  TTTTTTTTTGAGACGGAGTCTGG\n",
       "1023843  TTTTTTTTTGAGACGGAGTTCGG\n",
       "1023844  TTTTTTTTTGAGACGGAGTTTGG\n",
       "\n",
       "[1023845 rows x 1 columns]"
      ]
     },
     "execution_count": 13,
     "metadata": {},
     "output_type": "execute_result"
    }
   ],
   "source": [
    "df= pd.read_csv('examples/unprocessed_data/unlabeled_sgrna_fixed.csv')\n",
    "# drop duplicates (it doesn't have any)\n",
    "df.drop_duplicates(subset='sgRNA', keep=\"last\")\n",
    "not_gg, not_23=health_check(df,name='sgRNA')\n",
    "df"
   ]
  },
  {
   "cell_type": "code",
   "execution_count": 9,
   "id": "a818b0d7-7b1e-4c7b-8601-a315fa957391",
   "metadata": {},
   "outputs": [],
   "source": [
    "df = add_allkmers_to_df(df, \"sgRNA\")\n",
    "save_txt(df,name='examples/unprocessed_data/pre/')"
   ]
  },
  {
   "cell_type": "markdown",
   "id": "72dcf46f-aebd-40a2-b339-689b2fa41286",
   "metadata": {},
   "source": [
    "# Test"
   ]
  },
  {
   "cell_type": "code",
   "execution_count": 10,
   "id": "28198149-c754-4ef4-b019-8ec926149f73",
   "metadata": {
    "scrolled": true,
    "tags": []
   },
   "outputs": [
    {
     "name": "stdout",
     "output_type": "stream",
     "text": [
      "3mer 4mer 5mer 6mer\n",
      "83    99   113  125\n"
     ]
    }
   ],
   "source": [
    "seq1=df['3mer'][0]\n",
    "seq2=df['4mer'][0]\n",
    "seq3=df['5mer'][0]\n",
    "seq4=df['6mer'][0]\n",
    "print(\"3mer\",\"4mer\",\"5mer\",\"6mer\")\n",
    "print(len(seq1),\"  \",len(seq2),\" \",len(seq3),\"\",len(seq4))"
   ]
  }
 ],
 "metadata": {
  "kernelspec": {
   "display_name": "dnabert",
   "language": "python",
   "name": "dnabert"
  },
  "language_info": {
   "codemirror_mode": {
    "name": "ipython",
    "version": 3
   },
   "file_extension": ".py",
   "mimetype": "text/x-python",
   "name": "python",
   "nbconvert_exporter": "python",
   "pygments_lexer": "ipython3",
   "version": "3.6.13"
  }
 },
 "nbformat": 4,
 "nbformat_minor": 5
}
